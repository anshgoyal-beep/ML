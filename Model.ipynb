{
  "nbformat": 4,
  "nbformat_minor": 0,
  "metadata": {
    "kernelspec": {
      "display_name": "Python 3",
      "language": "python",
      "name": "python3"
    },
    "language_info": {
      "codemirror_mode": {
        "name": "ipython",
        "version": 3
      },
      "file_extension": ".py",
      "mimetype": "text/x-python",
      "name": "python",
      "nbconvert_exporter": "python",
      "pygments_lexer": "ipython3",
      "version": "3.7.6"
    },
    "colab": {
      "name": "Model.ipynb",
      "provenance": []
    },
    "accelerator": "GPU"
  },
  "cells": [
    {
      "cell_type": "code",
      "metadata": {
        "id": "38cGQpTVU7h6",
        "colab_type": "code",
        "colab": {}
      },
      "source": [
        "import tensorflow \n",
        "from tensorflow.keras.models import Sequential\n",
        "from tensorflow.keras.layers import MaxPooling2D , Conv2D , Flatten , Dense , Dropout , Activation\n",
        "import os\n",
        "\n",
        "import matplotlib.pyplot as plt\n",
        "import cv2 as cv\n",
        "import numpy as np"
      ],
      "execution_count": 1,
      "outputs": []
    },
    {
      "cell_type": "code",
      "metadata": {
        "id": "FuUioMM4WuTv",
        "colab_type": "code",
        "colab": {
          "base_uri": "https://localhost:8080/",
          "height": 173
        },
        "outputId": "71f89591-de50-494a-b94b-cc09faccad37"
      },
      "source": [
        "pip install emnist"
      ],
      "execution_count": 2,
      "outputs": [
        {
          "output_type": "stream",
          "text": [
            "Requirement already satisfied: emnist in /usr/local/lib/python3.6/dist-packages (0.0)\n",
            "Requirement already satisfied: numpy in /usr/local/lib/python3.6/dist-packages (from emnist) (1.18.5)\n",
            "Requirement already satisfied: tqdm in /usr/local/lib/python3.6/dist-packages (from emnist) (4.41.1)\n",
            "Requirement already satisfied: requests in /usr/local/lib/python3.6/dist-packages (from emnist) (2.23.0)\n",
            "Requirement already satisfied: chardet<4,>=3.0.2 in /usr/local/lib/python3.6/dist-packages (from requests->emnist) (3.0.4)\n",
            "Requirement already satisfied: certifi>=2017.4.17 in /usr/local/lib/python3.6/dist-packages (from requests->emnist) (2020.6.20)\n",
            "Requirement already satisfied: idna<3,>=2.5 in /usr/local/lib/python3.6/dist-packages (from requests->emnist) (2.9)\n",
            "Requirement already satisfied: urllib3!=1.25.0,!=1.25.1,<1.26,>=1.21.1 in /usr/local/lib/python3.6/dist-packages (from requests->emnist) (1.24.3)\n"
          ],
          "name": "stdout"
        }
      ]
    },
    {
      "cell_type": "code",
      "metadata": {
        "id": "dAdLyckKWhx9",
        "colab_type": "code",
        "colab": {
          "base_uri": "https://localhost:8080/",
          "height": 35
        },
        "outputId": "cef32821-8fec-41ba-bee4-72478048fa39"
      },
      "source": [
        "import emnist\n",
        "emnist.ensure_cached_data()"
      ],
      "execution_count": 3,
      "outputs": [
        {
          "output_type": "execute_result",
          "data": {
            "application/vnd.google.colaboratory.intrinsic": {
              "type": "string"
            },
            "text/plain": [
              "'/root/.cache/emnist/emnist.zip'"
            ]
          },
          "metadata": {
            "tags": []
          },
          "execution_count": 3
        }
      ]
    },
    {
      "cell_type": "code",
      "metadata": {
        "id": "L2-yGhBRU7iA",
        "colab_type": "code",
        "colab": {}
      },
      "source": [
        "from emnist import extract_test_samples as ets\n",
        "from emnist import extract_training_samples\n",
        "x_digit_train , y_digit_train = extract_training_samples('digits')\n",
        "x_letter_train , y_letter_train = extract_training_samples('letters')\n",
        "x_digit_test , y_digit_test = ets('digits')\n",
        "x_letter_test , y_letter_test = ets('letters')\n",
        "x_train = []\n",
        "y_train = []\n",
        "x_test = []\n",
        "y_test = []\n",
        "for i in x_digit_train:\n",
        "    x_train.append(i)\n",
        "for i in x_letter_train: \n",
        "    x_train.append(i)\n",
        "for i in y_digit_train:\n",
        "    y_train.append(i)\n",
        "for i in y_letter_train: \n",
        "    y_train.append(i)\n",
        "x_train = np.array(x_train)\n",
        "y_train = np.array(y_train)\n",
        "\n",
        "for i in x_digit_test:\n",
        "    x_test.append(i)\n",
        "for i in x_letter_test: \n",
        "    x_test.append(i)\n",
        "for i in y_digit_test:\n",
        "    y_test.append(i)\n",
        "for i in y_letter_test: \n",
        "    y_test.append(i)\n",
        "x_test = np.array(x_test)\n",
        "y_test = np.array(y_test)\n",
        "\n"
      ],
      "execution_count": 4,
      "outputs": []
    },
    {
      "cell_type": "code",
      "metadata": {
        "id": "RsOrE8l-YxNW",
        "colab_type": "code",
        "colab": {
          "base_uri": "https://localhost:8080/",
          "height": 34
        },
        "outputId": "6c70642b-2bd2-48f7-d8fc-9af437420af9"
      },
      "source": [
        "\n",
        "x_train = x_train.reshape(-1,28,28,1)\n",
        "x_test = x_test.reshape(-1,28,28,1)\n",
        "x_train.shape,y_train.shape"
      ],
      "execution_count": 5,
      "outputs": [
        {
          "output_type": "execute_result",
          "data": {
            "text/plain": [
              "((364800, 28, 28, 1), (364800,))"
            ]
          },
          "metadata": {
            "tags": []
          },
          "execution_count": 5
        }
      ]
    },
    {
      "cell_type": "code",
      "metadata": {
        "id": "22XVpGD_U7iF",
        "colab_type": "code",
        "colab": {}
      },
      "source": [
        "\n",
        "x_train = x_train.astype('float32')\n",
        "x_test = x_test.astype('float32')\n",
        "x_train /= 255\n",
        "x_test /= 255\n",
        "\n",
        "num_classes = 62\n",
        "\n",
        "y_train = tensorflow.keras.utils.to_categorical(y_train, num_classes)\n",
        "y_test = tensorflow.keras.utils.to_categorical(y_test, num_classes)"
      ],
      "execution_count": 6,
      "outputs": []
    },
    {
      "cell_type": "code",
      "metadata": {
        "id": "QGY1lf0KU7iJ",
        "colab_type": "code",
        "colab": {
          "base_uri": "https://localhost:8080/",
          "height": 513
        },
        "outputId": "ab3e6fea-b39c-4d7d-e5b7-e1d4df19a83a"
      },
      "source": [
        "input_shape = (28,28,1)\n",
        "\n",
        "model = Sequential()\n",
        "\n",
        "model.add(Conv2D(32, kernel_size=(3, 3),\n",
        "                 activation='relu',\n",
        "                 input_shape=input_shape))\n",
        "\n",
        "model.add(Conv2D(64, (3, 3), activation='relu'))\n",
        "model.add(MaxPooling2D(pool_size=(2, 2)))\n",
        "\n",
        "model.add(Dropout(0.25))\n",
        "model.add(Conv2D(64, (3, 3), activation='relu'))\n",
        "model.add(MaxPooling2D(pool_size=(2, 2)))\n",
        "model.add(Flatten())\n",
        "model.add(Dense(128, activation='relu'))\n",
        "model.add(Dropout(0.5))\n",
        "\n",
        "model.add(Dense(num_classes, activation='softmax'))\n",
        "\n",
        "model.compile(loss=tensorflow.keras.losses.categorical_crossentropy,\n",
        "              optimizer=tensorflow.keras.optimizers.Adam(learning_rate= 0.001),\n",
        "              metrics=['accuracy'])\n",
        "\n",
        "batch_size = 128\n",
        "num_epoch = 14\n",
        "model_log = model.fit(x_train, y_train,\n",
        "          batch_size=batch_size,\n",
        "          epochs=num_epoch,\n",
        "          verbose=1,\n",
        "          validation_data=(x_test, y_test))"
      ],
      "execution_count": 10,
      "outputs": [
        {
          "output_type": "stream",
          "text": [
            "Epoch 1/14\n",
            "2850/2850 [==============================] - 30s 10ms/step - loss: 0.5968 - accuracy: 0.8238 - val_loss: 0.2737 - val_accuracy: 0.9112\n",
            "Epoch 2/14\n",
            "2850/2850 [==============================] - 29s 10ms/step - loss: 0.3533 - accuracy: 0.8901 - val_loss: 0.2444 - val_accuracy: 0.9207\n",
            "Epoch 3/14\n",
            "2850/2850 [==============================] - 29s 10ms/step - loss: 0.3126 - accuracy: 0.9024 - val_loss: 0.2309 - val_accuracy: 0.9241\n",
            "Epoch 4/14\n",
            "2850/2850 [==============================] - 29s 10ms/step - loss: 0.2911 - accuracy: 0.9084 - val_loss: 0.2221 - val_accuracy: 0.9272\n",
            "Epoch 5/14\n",
            "2850/2850 [==============================] - 29s 10ms/step - loss: 0.2753 - accuracy: 0.9120 - val_loss: 0.2156 - val_accuracy: 0.9296\n",
            "Epoch 6/14\n",
            "2850/2850 [==============================] - 29s 10ms/step - loss: 0.2632 - accuracy: 0.9158 - val_loss: 0.2152 - val_accuracy: 0.9297\n",
            "Epoch 7/14\n",
            "2850/2850 [==============================] - 30s 10ms/step - loss: 0.2556 - accuracy: 0.9178 - val_loss: 0.2110 - val_accuracy: 0.9310\n",
            "Epoch 8/14\n",
            "2850/2850 [==============================] - 29s 10ms/step - loss: 0.2488 - accuracy: 0.9196 - val_loss: 0.2088 - val_accuracy: 0.9314\n",
            "Epoch 9/14\n",
            "2850/2850 [==============================] - 29s 10ms/step - loss: 0.2439 - accuracy: 0.9212 - val_loss: 0.2073 - val_accuracy: 0.9326\n",
            "Epoch 10/14\n",
            "2850/2850 [==============================] - 29s 10ms/step - loss: 0.2390 - accuracy: 0.9223 - val_loss: 0.2058 - val_accuracy: 0.9322\n",
            "Epoch 11/14\n",
            "2850/2850 [==============================] - 29s 10ms/step - loss: 0.2350 - accuracy: 0.9236 - val_loss: 0.2109 - val_accuracy: 0.9319\n",
            "Epoch 12/14\n",
            "2850/2850 [==============================] - 29s 10ms/step - loss: 0.2311 - accuracy: 0.9245 - val_loss: 0.2050 - val_accuracy: 0.9347\n",
            "Epoch 13/14\n",
            "2850/2850 [==============================] - 29s 10ms/step - loss: 0.2282 - accuracy: 0.9251 - val_loss: 0.2056 - val_accuracy: 0.9337\n",
            "Epoch 14/14\n",
            "2850/2850 [==============================] - 29s 10ms/step - loss: 0.2253 - accuracy: 0.9259 - val_loss: 0.2052 - val_accuracy: 0.9340\n"
          ],
          "name": "stdout"
        }
      ]
    },
    {
      "cell_type": "code",
      "metadata": {
        "id": "LDbzk-FBU7iQ",
        "colab_type": "code",
        "colab": {
          "base_uri": "https://localhost:8080/",
          "height": 51
        },
        "outputId": "c406adc7-7205-48a6-9bbc-8946b1dad62f"
      },
      "source": [
        "score = model.evaluate(x_test, y_test, verbose=0)\n",
        "print('Test loss:', score[0]) \n",
        "print('Test accuracy:', score[1]) "
      ],
      "execution_count": 11,
      "outputs": [
        {
          "output_type": "stream",
          "text": [
            "Test loss: 0.20523858070373535\n",
            "Test accuracy: 0.9339638352394104\n"
          ],
          "name": "stdout"
        }
      ]
    },
    {
      "cell_type": "code",
      "metadata": {
        "id": "gf7S4vyQkHF1",
        "colab_type": "code",
        "colab": {}
      },
      "source": [
        "model.save(\"model.h5\")"
      ],
      "execution_count": 12,
      "outputs": []
    },
    {
      "cell_type": "code",
      "metadata": {
        "id": "LmYoJtU7oszb",
        "colab_type": "code",
        "colab": {}
      },
      "source": [
        ""
      ],
      "execution_count": null,
      "outputs": []
    }
  ]
}